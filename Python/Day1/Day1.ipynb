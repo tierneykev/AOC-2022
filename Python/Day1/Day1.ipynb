{
 "cells": [
  {
   "cell_type": "code",
   "execution_count": 15,
   "metadata": {
    "scrolled": false
   },
   "outputs": [
    {
     "name": "stdout",
     "output_type": "stream",
     "text": [
      "72240\n",
      "210957\n"
     ]
    }
   ],
   "source": [
    "file = open(\"Day1.data.txt\", \"r\")\n",
    "data = file.readlines()\n",
    "elf_total = 0\n",
    "max_elf = 0\n",
    "elf_totals = []\n",
    "for line in data:\n",
    "    if line == \"\\n\":\n",
    "        if elf_total > max_elf:\n",
    "            max_elf = elf_total\n",
    "        elf_totals.append(elf_total)\n",
    "        elf_total = 0\n",
    "    else:\n",
    "        elf_total += int(line)\n",
    "        \n",
    "print(max_elf)\n",
    "\n",
    "elf_totals.sort(reverse= True)\n",
    "\n",
    "top3 = 0\n",
    "for elf in elf_totals[0:3]:\n",
    "    top3 += elf\n",
    "print(top3)"
   ]
  },
  {
   "cell_type": "code",
   "execution_count": null,
   "metadata": {},
   "outputs": [],
   "source": []
  }
 ],
 "metadata": {
  "kernelspec": {
   "display_name": "Python 3 (ipykernel)",
   "language": "python",
   "name": "python3"
  },
  "language_info": {
   "codemirror_mode": {
    "name": "ipython",
    "version": 3
   },
   "file_extension": ".py",
   "mimetype": "text/x-python",
   "name": "python",
   "nbconvert_exporter": "python",
   "pygments_lexer": "ipython3",
   "version": "3.11.0"
  }
 },
 "nbformat": 4,
 "nbformat_minor": 2
}
