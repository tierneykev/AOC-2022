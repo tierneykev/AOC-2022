{
 "cells": [
  {
   "cell_type": "code",
   "execution_count": 8,
   "id": "6225e153",
   "metadata": {},
   "outputs": [
    {
     "name": "stdout",
     "output_type": "stream",
     "text": [
      "#1 547\n",
      "#2 734\n"
     ]
    }
   ],
   "source": [
    "import re\n",
    "#file_name = 'sample_input.txt'\n",
    "file_name = 'puzzle_input.txt'\n",
    "with open(file_name) as f:\n",
    "    lines = f.read().splitlines()\n",
    "\n",
    "overlaps = 0\n",
    "for line in lines:\n",
    "    elf1,elf2 = line.split(',')\n",
    "    elf1start,elf1end = elf1.split('-')\n",
    "    elf2start,elf2end = elf2.split('-')\n",
    "    \n",
    "    if int(elf1start) >= int(elf2start) and int(elf1end) <= int(elf2end):\n",
    "        overlaps +=1\n",
    "        #print('*',line)\n",
    "    elif int(elf2start) >= int(elf1start) and int(elf2end) <= int(elf1end):\n",
    "        overlaps +=1\n",
    "        #print('+',line)\n",
    "print('#1',overlaps)\n",
    "\n",
    "#Elves would like to know the number of pairs that overlap at all\n",
    "overlaps2 = 0\n",
    "for line in lines:\n",
    "    elf1,elf2 = line.split(',')\n",
    "    elf1start,elf1end = elf1.split('-')\n",
    "    elf2start,elf2end = elf2.split('-')\n",
    "    #1Starts Between #2 Range \n",
    "    if int(elf1start) >= int(elf2start) and int(elf1start) <= int(elf2end):\n",
    "        overlaps2 +=1\n",
    "    elif int(elf1end) >= int(elf2start) and int(elf1end) <= int(elf2end):\n",
    "        overlaps2 +=1\n",
    "    elif int(elf1end) >= int(elf2start) and int(elf1end) <= int(elf2end):\n",
    "        overlaps2 +=1\n",
    "    #elif int(elf2start) >= int(elf1start) and int(elf2start) <= int(elf1end):\n",
    "        overlaps2 +=1\n",
    "    elif int(elf2end) >= int(elf1start) and int(elf2end) <= int(elf1end):\n",
    "        overlaps2 +=1\n",
    "print('#2',overlaps2)\n",
    "\n"
   ]
  },
  {
   "cell_type": "code",
   "execution_count": null,
   "id": "cecfda83",
   "metadata": {},
   "outputs": [],
   "source": []
  },
  {
   "cell_type": "code",
   "execution_count": null,
   "id": "1d0f608c",
   "metadata": {},
   "outputs": [],
   "source": []
  }
 ],
 "metadata": {
  "kernelspec": {
   "display_name": "Python 3 (ipykernel)",
   "language": "python",
   "name": "python3"
  },
  "language_info": {
   "codemirror_mode": {
    "name": "ipython",
    "version": 3
   },
   "file_extension": ".py",
   "mimetype": "text/x-python",
   "name": "python",
   "nbconvert_exporter": "python",
   "pygments_lexer": "ipython3",
   "version": "3.11.0"
  }
 },
 "nbformat": 4,
 "nbformat_minor": 5
}
