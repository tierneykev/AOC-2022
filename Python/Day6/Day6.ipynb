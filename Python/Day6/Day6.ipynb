{
 "cells": [
  {
   "cell_type": "code",
   "execution_count": 27,
   "metadata": {},
   "outputs": [
    {
     "name": "stdout",
     "output_type": "stream",
     "text": [
      "Problem 1 1848\n",
      "Problem 2 2308\n"
     ]
    }
   ],
   "source": [
    "input_file_name = 'puzzle_input.txt'\n",
    "with open(input_file_name) as f:\n",
    "    data = f.read()\n",
    "#print(data)\n",
    "\n",
    "#Samples\n",
    "#data = 'mjqjpqmgbljsphdztnvjfqwrcgsmlb'\n",
    "#data = 'bvwbjplbgvbhsrlpgdmjqwftvncz'\n",
    "\n",
    "# start of a packet is indicated by a sequence of \n",
    "# four characters that are all different\n",
    "\n",
    "#How many characters need to be processed \n",
    "# before the first start-of-packet marker is detected?\n",
    "counter = 0\n",
    "char_list = []\n",
    "for character in data:\n",
    "    if len(char_list) < 4:\n",
    "        char_list.append(character)\n",
    "    else:\n",
    "        if len(char_list) == len(set(char_list)):\n",
    "            print('Problem 1',counter)\n",
    "            break\n",
    "        del char_list[0]\n",
    "        char_list.append(character)\n",
    "    \n",
    "\n",
    "        \n",
    "    counter += 1 \n",
    "\n",
    "# PART 2\n",
    "#start-of-message marker is just like a start-of-packet marker, \n",
    "#except it consists of 14 distinct characters rather than 4\n",
    "\n",
    "counter = 0\n",
    "char_list2 = []    \n",
    "for character in data:\n",
    "    if len(char_list2) < 14:\n",
    "        char_list2.append(character)\n",
    "    else:\n",
    "        if len(char_list2) == len(set(char_list2)):\n",
    "            print('Problem 2',counter)\n",
    "            break\n",
    "        del char_list2[0]\n",
    "        char_list2.append(character)  \n",
    "    counter += 1\n",
    "#print(char_list)\n",
    "\n"
   ]
  },
  {
   "cell_type": "code",
   "execution_count": null,
   "metadata": {},
   "outputs": [],
   "source": []
  }
 ],
 "metadata": {
  "kernelspec": {
   "display_name": "Python 3 (ipykernel)",
   "language": "python",
   "name": "python3"
  },
  "language_info": {
   "codemirror_mode": {
    "name": "ipython",
    "version": 3
   },
   "file_extension": ".py",
   "mimetype": "text/x-python",
   "name": "python",
   "nbconvert_exporter": "python",
   "pygments_lexer": "ipython3",
   "version": "3.11.0"
  }
 },
 "nbformat": 4,
 "nbformat_minor": 2
}
