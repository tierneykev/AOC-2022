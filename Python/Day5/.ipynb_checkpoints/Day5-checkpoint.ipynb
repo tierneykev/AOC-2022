{
 "cells": [
  {
   "cell_type": "code",
   "execution_count": 100,
   "metadata": {
    "scrolled": false
   },
   "outputs": [
    {
     "name": "stdout",
     "output_type": "stream",
     "text": [
      "Start: {1: ['S', 'T', 'H', 'F', 'W', 'R'], 2: ['S', 'G', 'D', 'Q', 'W'], 3: ['B', 'T', 'W'], 4: ['D', 'R', 'W', 'T', 'N', 'Q', 'Z', 'J'], 5: ['F', 'B', 'H', 'G', 'L', 'V', 'T', 'Z'], 6: ['L', 'P', 'T', 'C', 'V', 'B', 'S', 'G'], 7: ['Z', 'B', 'R', 'T', 'W', 'G', 'P'], 8: ['N', 'G', 'M', 'T', 'C', 'J', 'R'], 9: ['L', 'G', 'B', 'W']}\n",
      "Part 1 ZRLJGSCTR\n",
      "Part 2 PRTTGRFPB\n"
     ]
    }
   ],
   "source": [
    "# input_file_name = 'sample_input.txt'\n",
    "# columns = 3\n",
    "# stack_line_count = 3\n",
    "\n",
    "input_file_name = 'puzzle_input.txt'\n",
    "columns = 9\n",
    "stack_line_count = 8\n",
    "\n",
    "with open(input_file_name) as f:\n",
    "    lines = f.read().splitlines()\n",
    "# break file into stacks vs moves\n",
    "stack_lines = lines[0:stack_line_count]\n",
    "moves = lines[stack_line_count+2:]\n",
    "\n",
    "\n",
    "stacks = {}\n",
    "#Every 4th character is the letter position\n",
    "stack_positions = {1:1}\n",
    "for x in range(1,columns+1):\n",
    "    if x == 1:\n",
    "        stack_positions[x] = 1\n",
    "    else:\n",
    "        stack_positions[x] = stack_positions[x-1]+4\n",
    "    stacks[x] = []\n",
    "\n",
    "#Loop over stack lines\n",
    "for stack_line in stack_lines:\n",
    "    #print(stack_line)\n",
    "    for stack_number in stack_positions.keys():\n",
    "        char = stack_line[stack_positions[stack_number]]\n",
    "        if char.isalpha():            \n",
    "            stacks[stack_number].append(char)\n",
    "\n",
    "stacksp2 = {} #Need a new one for p2\n",
    "#Reversing so that list is arranged from bottom to top\n",
    "for key in stacks.keys():\n",
    "    stacks[key].reverse()\n",
    "    stacksp2[key] = [x for x in stacks[key]]\n",
    "print('Start:',stacks)\n",
    "\n",
    "\n",
    "\n",
    "for move in moves:\n",
    "    move_list = move.split(\" \")\n",
    "    nbr_move = int(move_list[1])\n",
    "    source = int(move_list[3])\n",
    "    dest = int(move_list[5])\n",
    "    \n",
    "    #print(stacks[source],stacks[dest])\n",
    "    being_moved = stacks[source][-1*nbr_move:]\n",
    "    # We pull them off onen by one, so need to rev order\n",
    "    # If we pull ABC it goes on to dest as CBA\n",
    "    being_moved.reverse()\n",
    "    stacks[dest].extend(being_moved)\n",
    "    stacks[source] = stacks[source][:-1*nbr_move]\n",
    "    #print(stacks)\n",
    "\n",
    "#Solution is only top of each stack\n",
    "tops = \"\"\n",
    "for stack_number in stacks.keys():\n",
    "    tops += stacks[stack_number][-1]\n",
    "print('Part 1',tops)\n",
    "\n",
    "#PART 2\n",
    "for move in moves:\n",
    "    move_list = move.split(\" \")\n",
    "    nbr_move = int(move_list[1])\n",
    "    source = int(move_list[3])\n",
    "    dest = int(move_list[5])\n",
    "    \n",
    "    being_moved = stacksp2[source][-1*nbr_move:]\n",
    "    stacksp2[dest].extend(being_moved)\n",
    "    stacksp2[source] = stacksp2[source][:-1*nbr_move]\n",
    "\n",
    "#Solution is only top of each stack\n",
    "tops = \"\"\n",
    "for stack_number in stacksp2.keys():\n",
    "    tops += stacksp2[stack_number][-1]\n",
    "print('Part 2',tops)"
   ]
  },
  {
   "cell_type": "code",
   "execution_count": null,
   "metadata": {},
   "outputs": [],
   "source": []
  },
  {
   "cell_type": "code",
   "execution_count": null,
   "metadata": {},
   "outputs": [],
   "source": []
  },
  {
   "cell_type": "code",
   "execution_count": null,
   "metadata": {},
   "outputs": [],
   "source": []
  }
 ],
 "metadata": {
  "kernelspec": {
   "display_name": "Python 3 (ipykernel)",
   "language": "python",
   "name": "python3"
  },
  "language_info": {
   "codemirror_mode": {
    "name": "ipython",
    "version": 3
   },
   "file_extension": ".py",
   "mimetype": "text/x-python",
   "name": "python",
   "nbconvert_exporter": "python",
   "pygments_lexer": "ipython3",
   "version": "3.11.0"
  }
 },
 "nbformat": 4,
 "nbformat_minor": 2
}
