{
 "cells": [
  {
   "cell_type": "code",
   "execution_count": 1,
   "metadata": {
    "scrolled": true
   },
   "outputs": [
    {
     "name": "stdout",
     "output_type": "stream",
     "text": [
      "{'a': 1, 'A': 27, 'b': 2, 'B': 28, 'c': 3, 'C': 29, 'd': 4, 'D': 30, 'e': 5, 'E': 31, 'f': 6, 'F': 32, 'g': 7, 'G': 33, 'h': 8, 'H': 34, 'i': 9, 'I': 35, 'j': 10, 'J': 36, 'k': 11, 'K': 37, 'l': 12, 'L': 38, 'm': 13, 'M': 39, 'n': 14, 'N': 40, 'o': 15, 'O': 41, 'p': 16, 'P': 42, 'q': 17, 'Q': 43, 'r': 18, 'R': 44, 's': 19, 'S': 45, 't': 20, 'T': 46, 'u': 21, 'U': 47, 'v': 22, 'V': 48, 'w': 23, 'W': 49, 'x': 24, 'X': 50, 'y': 25, 'Y': 51, 'z': 26, 'Z': 52}\n"
     ]
    },
    {
     "ename": "FileNotFoundError",
     "evalue": "[Errno 2] No such file or directory: 'sample_input.txt'",
     "output_type": "error",
     "traceback": [
      "\u001b[0;31m---------------------------------------------------------------------------\u001b[0m",
      "\u001b[0;31mFileNotFoundError\u001b[0m                         Traceback (most recent call last)",
      "Cell \u001b[0;32mIn [1], line 17\u001b[0m\n\u001b[1;32m     15\u001b[0m \u001b[38;5;28mprint\u001b[39m(priorities)\n\u001b[1;32m     16\u001b[0m input_file_name \u001b[38;5;241m=\u001b[39m \u001b[38;5;124m'\u001b[39m\u001b[38;5;124msample_input.txt\u001b[39m\u001b[38;5;124m'\u001b[39m\n\u001b[0;32m---> 17\u001b[0m \u001b[38;5;28;01mwith\u001b[39;00m \u001b[38;5;28;43mopen\u001b[39;49m\u001b[43m(\u001b[49m\u001b[43minput_file_name\u001b[49m\u001b[43m)\u001b[49m \u001b[38;5;28;01mas\u001b[39;00m f:\n\u001b[1;32m     18\u001b[0m     lines \u001b[38;5;241m=\u001b[39m f\u001b[38;5;241m.\u001b[39mread()\u001b[38;5;241m.\u001b[39msplitlines()\n\u001b[1;32m     20\u001b[0m \u001b[38;5;28;01mfor\u001b[39;00m line \u001b[38;5;129;01min\u001b[39;00m lines:\n",
      "\u001b[0;31mFileNotFoundError\u001b[0m: [Errno 2] No such file or directory: 'sample_input.txt'"
     ]
    }
   ],
   "source": [
    "from string import ascii_lowercase\n",
    "\n",
    "#Lowercase item types a through z \n",
    "#have priorities 1 through 26.\n",
    "\n",
    "#Uppercase item types A through Z \n",
    "#have priorities 27 through 52\n",
    "counter = 1\n",
    "priorities = {}\n",
    "for letter in ascii_lowercase:\n",
    "    priorities[letter] = counter\n",
    "    priorities[letter.upper()] = counter + 26\n",
    "    counter += 1\n",
    "    #print(letter)\n",
    "print(priorities)\n",
    "input_file_name = 'sample_input.txt'\n",
    "with open(input_file_name) as f:\n",
    "    lines = f.read().splitlines()\n",
    "\n",
    "for line in lines:\n",
    "    print(line)\n",
    "    size = int(len(line)/2)\n",
    "    compartement1 = line[0:size]\n",
    "    compartement2 = line[size:]\n",
    "    common = set.intersection(*map(set,[compartment1,compartment2]))\n",
    "    #print(1,compartement1)\n",
    "    #print(2,compartement2)\n",
    "    #print(\"-----\")\n",
    "    \n",
    "\n"
   ]
  },
  {
   "cell_type": "code",
   "execution_count": null,
   "metadata": {},
   "outputs": [],
   "source": []
  }
 ],
 "metadata": {
  "kernelspec": {
   "display_name": "Python 3 (ipykernel)",
   "language": "python",
   "name": "python3"
  },
  "language_info": {
   "codemirror_mode": {
    "name": "ipython",
    "version": 3
   },
   "file_extension": ".py",
   "mimetype": "text/x-python",
   "name": "python",
   "nbconvert_exporter": "python",
   "pygments_lexer": "ipython3",
   "version": "3.11.0"
  }
 },
 "nbformat": 4,
 "nbformat_minor": 2
}
